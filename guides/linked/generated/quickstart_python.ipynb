{
  "cells": [
    {
      "cell_type": "markdown",
      "metadata": {
        "id": "dhn54SvZYZKe"
      },
      "source": [
        "# Get started with Earth Engine for Python"
      ]
    },
    {
      "cell_type": "code",
      "source": [
        "import random\n",
        "\n",
        "def jogar():\n",
        "\n",
        "    print(\"*********************************\")\n",
        "    print(\"*********bem vindo***************\")\n",
        "    print(\"*********************************\")\n",
        "\n",
        "    numero_secreto = random.randrange(1,101)\n",
        "    total_de_tentativas = 0\n",
        "    pontos = 1000\n",
        "\n",
        "    print(\"qual nivel de dificuldade?\")\n",
        "    print(\"(1)facil (2)medio (3)dificil\")\n",
        "\n",
        "    nivel = int(input(\"defina o nivel: \"))\n",
        "\n",
        "    if(nivel == 1):\n",
        "      total_de_tentativas = 20\n",
        "    elif(nivel == 2):\n",
        "      total_de_tentativas = 10\n",
        "    else:\n",
        "      total_de_tentativas = 5\n",
        "\n",
        "  for rodada in range(1,total_de_tentativas + 1):\n",
        "    print(\"tentativa {} de {}\".format(rodada,total_de_tentativas))\n",
        "\n",
        "    chute_str = input(\"digite numero entre 1 a 100: \")\n",
        "    print(\"voce digitou \", chute_str)\n",
        "    chute = int(chute_str)\n",
        "\n",
        "    if(chute < 1 or chute > 100):\n",
        "      print(\"voce deve digitar um numero entre 1 e 100\")\n",
        "      continue\n",
        "\n",
        "  acertou = chute == numero_secreto\n",
        "  maior = chute > numero_secreto\n",
        "  menor = chute < numero_secreto\n",
        "\n",
        "  if(acertou):\n",
        "    print(\"voce acertou e fez {} pontos\".format(pontos))\n",
        "    break\n",
        "\n",
        "  else:\n",
        "    if(maior):\n",
        "      print(\"voce errou seu chute foi maior\")\n",
        "    if(menor):\n",
        "      print(\"voce errou seu chute foi menor\")\n",
        "    pontos_perdidos = abs(numero_secreto - chute)\n",
        "    pontos = pontos - pontos_perdidos\n",
        "\n",
        "    print(\"fim de jogo\")\n",
        "\n",
        "    if(__name__ == \"__main__\"):\n",
        "     jogar()"
      ],
      "metadata": {
        "id": "6F_HZKC3Y3IE",
        "outputId": "3e1c08f3-8776-4a35-8985-fc16b2f0c0cd",
        "colab": {
          "base_uri": "https://localhost:8080/",
          "height": 106
        }
      },
      "execution_count": 4,
      "outputs": [
        {
          "output_type": "error",
          "ename": "SyntaxError",
          "evalue": "'break' outside loop (ipython-input-4-233136615.py, line 42)",
          "traceback": [
            "\u001b[0;36m  File \u001b[0;32m\"/tmp/ipython-input-4-233136615.py\"\u001b[0;36m, line \u001b[0;32m42\u001b[0m\n\u001b[0;31m    break\u001b[0m\n\u001b[0m    ^\u001b[0m\n\u001b[0;31mSyntaxError\u001b[0m\u001b[0;31m:\u001b[0m 'break' outside loop\n"
          ]
        }
      ]
    }
  ],
  "metadata": {
    "colab": {
      "name": "Get started with Earth Engine for Python",
      "provenance": []
    },
    "language_info": {
      "name": "python"
    },
    "kernelspec": {
      "name": "python3",
      "display_name": "Python 3"
    }
  },
  "nbformat": 4,
  "nbformat_minor": 0
}