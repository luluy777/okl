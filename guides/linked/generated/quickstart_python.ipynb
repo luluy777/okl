{
  "cells": [
    {
      "cell_type": "markdown",
      "metadata": {
        "id": "dhn54SvZYZKe"
      },
      "source": [
        "# Get started with Earth Engine for Python"
      ]
    },
    {
      "cell_type": "code",
      "source": [
        "import random\n",
        "\n",
        "def jogar():\n",
        "    print()\n",
        "    print(\"Bem vindo ao jogo de Adivinhação!\")\n",
        "    print(\"**********************************\")\n",
        "\n",
        "    numero_secreto = random.randrange(1, 101)\n",
        "    total_de_tentativas = 0\n",
        "    pontos = 1000\n",
        "\n",
        "    print(\"Qual nível de dificuldade?\")\n",
        "    print(\"(1) Fácil (2) Médio (3) Difícil\")\n",
        "\n",
        "    nivel = int(input(\"Defina o nível: \"))\n",
        "\n",
        "    if(nivel == 1):\n",
        "        total_de_tentativas = 20\n",
        "    elif(nivel == 2):\n",
        "        total_de_tentativas = 10\n",
        "    else:\n",
        "        total_de_tentativas = 5\n",
        "\n",
        "    for rodada in range(1, total_de_tentativas + 1):\n",
        "        print(\"Tentativa {} de {}\".format(rodada, total_de_tentativas))\n",
        "        chute_str = input(\"Digite um número entre 1 e 100: \")\n",
        "        print(\"Você digitou: \", chute_str)\n",
        "        chute = int(chute_str)\n",
        "\n",
        "        if(chute < 1 or chute > 100):\n",
        "            print(\"Você deve digitar um número entre 1 e 100!\")\n",
        "            continue\n",
        "\n",
        "        acertou = chute == numero_secreto\n",
        "        maior = chute > numero_secreto\n",
        "        menor = chute < numero_secreto\n",
        "\n",
        "        if(acertou):\n",
        "            print(\"Você acertou e fez {} pontos!\".format(pontos))\n",
        "            break\n",
        "        else:\n",
        "            if(maior):\n",
        "                print(\"Você errou! O seu chute foi maior do que o número secreto.\")\n",
        "            elif(menor):\n",
        "                print(\"Você errou! O seu chute foi menor do que o número secreto.\")\n",
        "\n",
        "            pontos_perdidos = abs(numero_secreto - chute)\n",
        "            pontos = pontos - pontos_perdidos\n",
        "\n",
        "    print(\"Fim do jogo!\")\n",
        "\n",
        "if __name__ == \"__main__\":\n",
        "    jogar()\n"
      ],
      "metadata": {
        "id": "6F_HZKC3Y3IE",
        "outputId": "4796fcaa-4c2c-4301-a3f6-8e2df9e79c0a",
        "colab": {
          "base_uri": "https://localhost:8080/"
        }
      },
      "execution_count": 5,
      "outputs": [
        {
          "output_type": "stream",
          "name": "stdout",
          "text": [
            "\n",
            "Bem vindo ao jogo de Adivinhação!\n",
            "**********************************\n",
            "Qual nível de dificuldade?\n",
            "(1) Fácil (2) Médio (3) Difícil\n",
            "Defina o nível: 3\n",
            "Tentativa 1 de 5\n",
            "Digite um número entre 1 e 100: 56\n",
            "Você digitou:  56\n",
            "Você errou! O seu chute foi maior do que o número secreto.\n",
            "Tentativa 2 de 5\n",
            "Digite um número entre 1 e 100: 25\n",
            "Você digitou:  25\n",
            "Você errou! O seu chute foi menor do que o número secreto.\n",
            "Tentativa 3 de 5\n",
            "Digite um número entre 1 e 100: 30\n",
            "Você digitou:  30\n",
            "Você errou! O seu chute foi menor do que o número secreto.\n",
            "Tentativa 4 de 5\n",
            "Digite um número entre 1 e 100: 40\n",
            "Você digitou:  40\n",
            "Você errou! O seu chute foi menor do que o número secreto.\n",
            "Tentativa 5 de 5\n",
            "Digite um número entre 1 e 100: 47\n",
            "Você digitou:  47\n",
            "Você errou! O seu chute foi maior do que o número secreto.\n",
            "Fim do jogo!\n"
          ]
        }
      ]
    }
  ],
  "metadata": {
    "colab": {
      "name": "Get started with Earth Engine for Python",
      "provenance": []
    },
    "language_info": {
      "name": "python"
    },
    "kernelspec": {
      "name": "python3",
      "display_name": "Python 3"
    }
  },
  "nbformat": 4,
  "nbformat_minor": 0
}