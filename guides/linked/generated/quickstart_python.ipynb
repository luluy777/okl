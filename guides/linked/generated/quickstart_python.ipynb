{
  "cells": [
    {
      "cell_type": "markdown",
      "metadata": {
        "id": "dhn54SvZYZKe"
      },
      "source": [
        "# Get started with Earth Engine for Python"
      ]
    },
    {
      "cell_type": "code",
      "source": [
        "import random\n",
        "\n",
        "def jogar():\n",
        "\n",
        "  print(\"*********************************\")\n",
        "  print(\"*********bem vindo***************\")\n",
        "  print(\"*********************************\")\n",
        "\n",
        "  numero_secreto = random.randrange(1,101)\n",
        "  total_de_tentativas = 0\n",
        "  pontos = 1000\n",
        "\n",
        "  print(\"qual nivel de dificuldade?\")\n",
        "  print(\"(1)facil (2)medio (3)dificil\")\n",
        "\n",
        "  nivel = int(input(\"defina o nivel: \"))\n",
        "\n",
        "  if(nivel == 1):\n",
        "    total_de_tentativas = 20\n",
        "  elif(nivel == 2):\n",
        "    total_de_tentativas = 10\n",
        "  else:\n",
        "    total_de_tentativas = 5\n",
        "\n",
        "  for rodada in range(1,total_de_tentativas + 1):\n",
        "    print(\"tentativa {} de {}\".format(rodada,total_de_tentativas))\n",
        "\n",
        "    chute_str = input(\"digite numero entre 1 a 100: \")\n",
        "    print(\"voce digitou \", chute_str)\n",
        "    chute = int(chute_str)\n",
        "\n",
        "    if(chute < 1 or chute > 100):\n",
        "      print(\"voce deve digitar um numero entre 1 e 100\")\n",
        "      continue\n",
        "\n",
        "  acertou = chute == numero_secreto\n",
        "  maior = chute > numero_secreto\n",
        "  menor = chute < numero_secreto\n",
        "\n",
        "  if(acertou):\n",
        "    print(\"voce acertou e fez {} pontos\".format(pontos))\n",
        "    break\n",
        "  else:\n",
        "    if(maior):\n",
        "      print(\"voce errou seu chute foi maior\")\n",
        "    if(maior):\n",
        "      print(\"voce errou seu chute foi maior\")\n",
        ""
      ],
      "metadata": {
        "id": "6F_HZKC3Y3IE"
      },
      "execution_count": null,
      "outputs": []
    }
  ],
  "metadata": {
    "colab": {
      "name": "Get started with Earth Engine for Python",
      "provenance": []
    },
    "language_info": {
      "name": "python"
    },
    "kernelspec": {
      "name": "python3",
      "display_name": "Python 3"
    }
  },
  "nbformat": 4,
  "nbformat_minor": 0
}